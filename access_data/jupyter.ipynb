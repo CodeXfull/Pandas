{
 "cells": [
  {
   "cell_type": "code",
   "execution_count": 5,
   "metadata": {},
   "outputs": [],
   "source": [
    "import pandas as pd \n",
    "\n",
    "base = pd.read_csv(\"census.csv\")\n",
    "x = (base.education == \" Bachelors\") & (base.age >=45)"
   ]
  },
  {
   "cell_type": "code",
   "execution_count": 6,
   "metadata": {},
   "outputs": [
    {
     "output_type": "execute_result",
     "data": {
      "text/plain": "age                             45\nworkclass                  Private\nfinal-weight                386940\neducation                Bachelors\neducation-num                   13\nmarital_status            Divorced\noccupation         Exec-managerial\nrelationship             Own-child\nrace                         White\nsex                           Male\ncapital-gain                     0\ncapital-loos                  1408\nhour-per-week                   40\nnative-country       United-States\nincome                       <=50K\nName: 32, dtype: object"
     },
     "metadata": {},
     "execution_count": 6
    }
   ],
   "source": [
    "base.loc[32]"
   ]
  },
  {
   "cell_type": "code",
   "execution_count": 10,
   "metadata": {},
   "outputs": [
    {
     "output_type": "execute_result",
     "data": {
      "text/plain": "age                                47\nworkclass                     Private\nfinal-weight                   287828\neducation                   Bachelors\neducation-num                      13\nmarital_status     Married-civ-spouse\noccupation            Exec-managerial\nrelationship                     Wife\nrace                            White\nsex                            Female\ncapital-gain                        0\ncapital-loos                        0\nhour-per-week                      40\nnative-country          United-States\nincome                           >50K\nName: 125, dtype: object"
     },
     "metadata": {},
     "execution_count": 10
    }
   ],
   "source": [
    "base.loc[125]"
   ]
  },
  {
   "cell_type": "code",
   "execution_count": null,
   "metadata": {},
   "outputs": [],
   "source": []
  }
 ],
 "metadata": {
  "language_info": {
   "codemirror_mode": {
    "name": "ipython",
    "version": 3
   },
   "file_extension": ".py",
   "mimetype": "text/x-python",
   "name": "python",
   "nbconvert_exporter": "python",
   "pygments_lexer": "ipython3",
   "version": "3.8.2-final"
  },
  "orig_nbformat": 2,
  "kernelspec": {
   "name": "python38264bitembrapiivenv42eb3d2aee7347b4ac0e691f83457997",
   "display_name": "Python 3.8.2 64-bit ('embrapii': venv)"
  }
 },
 "nbformat": 4,
 "nbformat_minor": 2
}