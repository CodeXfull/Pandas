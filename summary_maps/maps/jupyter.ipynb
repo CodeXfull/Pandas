{
 "cells": [
  {
   "cell_type": "code",
   "execution_count": null,
   "metadata": {},
   "outputs": [],
   "source": [
    "import pandas as pd \n",
    "reviews = pd.read_csv(\"census3.csv\")\n",
    "\n",
    "# valor transformado\n",
    "media = reviews.hour_per_week.mean()\n",
    "base = reviews.hour_per_week.map(lambda p: p - media)\n"
   ]
  },
  {
   "cell_type": "code",
   "execution_count": null,
   "metadata": {},
   "outputs": [],
   "source": [
    "import pandas as pd \n",
    "reviews = pd.read_csv(\"census3.csv\")\n",
    "\n",
    "media = reviews.hour_per_week.mean()\n",
    "\n",
    "def remean_points(row):\n",
    "    row.hour_per_week = row.hour_per_week - media\n",
    "    return row\n",
    "\n",
    "reviews.apply(remean_points, axis='columns')"
   ]
  },
  {
   "cell_type": "code",
   "execution_count": null,
   "metadata": {},
   "outputs": [],
   "source": [
    "reviews.head()"
   ]
  },
  {
   "cell_type": "code",
   "execution_count": null,
   "metadata": {},
   "outputs": [],
   "source": [
    "x =reviews.hour_per_week - media"
   ]
  },
  {
   "cell_type": "code",
   "execution_count": null,
   "metadata": {},
   "outputs": [],
   "source": []
  }
 ],
 "metadata": {
  "language_info": {
   "codemirror_mode": {
    "name": "ipython",
    "version": 3
   },
   "file_extension": ".py",
   "mimetype": "text/x-python",
   "name": "python",
   "nbconvert_exporter": "python",
   "pygments_lexer": "ipython3",
   "version": "3.8.2-final"
  },
  "orig_nbformat": 2,
  "kernelspec": {
   "name": "python38264bitembrapiivenv42eb3d2aee7347b4ac0e691f83457997",
   "display_name": "Python 3.8.2 64-bit ('embrapii': venv)"
  }
 },
 "nbformat": 4,
 "nbformat_minor": 2
}